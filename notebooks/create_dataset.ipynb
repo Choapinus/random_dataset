{
 "cells": [
  {
   "cell_type": "code",
   "execution_count": 1,
   "metadata": {},
   "outputs": [],
   "source": [
    "import os\n",
    "import numpy as np\n",
    "import pandas as pd\n",
    "from faker import Faker\n",
    "from datetime import date"
   ]
  },
  {
   "cell_type": "code",
   "execution_count": 2,
   "metadata": {},
   "outputs": [],
   "source": [
    "fake = Faker('es_MX')\n",
    "\n",
    "if not os.path.exists('../datasets/'):\n",
    "    print('Creating datasets directory')\n",
    "    os.mkdir('../datasets/')"
   ]
  },
  {
   "cell_type": "code",
   "execution_count": 3,
   "metadata": {},
   "outputs": [],
   "source": [
    "def rand_date():\n",
    "    year = np.random.randint(2000, 2018)\n",
    "    month = np.random.randint(1, 12)\n",
    "    day = np.random.randint(1, 31)\n",
    "\n",
    "    while month == 2 and day > 28:\n",
    "        day = np.random.randint(1, 28)\n",
    "\n",
    "    return date(year, month, day)\n",
    "\n",
    "def to_roman(num):\n",
    "    conv = [\n",
    "        [1000, 'M'], [900, 'CM'], [500, 'D'], [400, 'CD'],\n",
    "        [ 100, 'C'], [ 90, 'XC'], [ 50, 'L'], [ 40, 'XL'],\n",
    "        [  10, 'X'], [  9, 'IX'], [  5, 'V'], [  4, 'IV'],\n",
    "        [   1, 'I']\n",
    "    ]\n",
    "    roman = ''\n",
    "    i = 0\n",
    "    \n",
    "    while num > 0:\n",
    "        while conv[i][0] > num: \n",
    "            i+=1\n",
    "        roman += conv[i][1]\n",
    "        num -= conv[i][0]\n",
    "    \n",
    "    return roman"
   ]
  },
  {
   "cell_type": "markdown",
   "metadata": {},
   "source": [
    "## Dimensiones"
   ]
  },
  {
   "cell_type": "code",
   "execution_count": 4,
   "metadata": {},
   "outputs": [],
   "source": [
    "class Cliente():\n",
    "    def __init__(self, **kwargs):\n",
    "        self.fecha_creacion = str(kwargs['c_date'])\n",
    "        self.fecha_ultima_compra = str(kwargs['uc_date'])\n",
    "        self.fecha_ultima_devolucion = str(kwargs['dev_date'])\n",
    "        self.total_compras = kwargs['t_compras']\n",
    "        self.cantidad_devoluciones = kwargs['cant_dev']\n",
    "    \n",
    "    def __str__(self):\n",
    "        return str(self.__dict__)\n",
    "    \n",
    "    def to_dict(self):\n",
    "        return self.__dict__\n",
    "\n",
    "class Rating(object):\n",
    "    def __init__(self, stars, comments):\n",
    "        self.cant_estrellas = stars\n",
    "        self.comentarios = comments\n",
    "        \n",
    "    def __str__(self):\n",
    "        return str(self.__dict__)\n",
    "    \n",
    "    def to_dict(self):\n",
    "        return self.__dict__\n",
    "\n",
    "class Empleado(object):\n",
    "    def __init__(self, **kwargs):\n",
    "        self.nombre = kwargs['name']\n",
    "        self.cargo = kwargs['charge']\n",
    "        self.sueldo = kwargs['salary']\n",
    "        self.fecha_ingreso = str(kwargs['c_date'])\n",
    "        self.fecha_desvinculacion = str(kwargs['c_desvin'])\n",
    "        self.horas_trabajadas = str(kwargs['w_hours'])\n",
    "    \n",
    "    def __str__(self):\n",
    "        return str(self.__dict__)\n",
    "    \n",
    "    def to_dict(self):\n",
    "        return self.__dict__\n",
    "\n",
    "class Producto(object):\n",
    "    def __init__(self, name, category, price):\n",
    "        self.nombre = name\n",
    "        self.categoria = category\n",
    "        self.precio = price\n",
    "    \n",
    "    def __str__(self):\n",
    "        return str(self.__dict__)\n",
    "    \n",
    "    def to_dict(self):\n",
    "        return self.__dict__\n",
    "\n",
    "class Sucursal(object):\n",
    "    def __init__(self, _dir, region, time_off):\n",
    "        self.direccion = _dir\n",
    "        self.region = region\n",
    "        self.tiempo_offline_horas = time_off\n",
    "    \n",
    "    def __str__(self):\n",
    "        return str(self.__dict__)\n",
    "    \n",
    "    def to_dict(self):\n",
    "        return self.__dict__\n",
    "\n",
    "class Costos(object):\n",
    "    def __init__(self, **kwargs):\n",
    "        self.gastos_admin = kwargs['g_admin']\n",
    "        self.gastos_no_operacionales = kwargs['gn_oper']\n",
    "        self.arriendos = kwargs['arr']\n",
    "        self.fecha_mensual = str(kwargs['f_month'])\n",
    "    \n",
    "    def __str__(self):\n",
    "        return str(self.__dict__)\n",
    "    \n",
    "    def to_dict(self):\n",
    "        return self.__dict__"
   ]
  },
  {
   "cell_type": "markdown",
   "metadata": {},
   "source": [
    "## Funciones generadoras"
   ]
  },
  {
   "cell_type": "code",
   "execution_count": 5,
   "metadata": {},
   "outputs": [],
   "source": [
    "def get_cliente():\n",
    "    c_date = rand_date()\n",
    "    uc_date = rand_date()\n",
    "    dev_date = rand_date()\n",
    "    \n",
    "    while uc_date < c_date:\n",
    "        uc_date = rand_date()\n",
    "    \n",
    "    while uc_date < dev_date:\n",
    "        dev_date = rand_date()\n",
    "        \n",
    "    t_compras = np.random.randint(1, 500)\n",
    "    cant_dev = np.random.randint(0, 50)\n",
    "    \n",
    "    return Cliente(**{\n",
    "        'c_date': c_date, \n",
    "        'uc_date': uc_date,\n",
    "        'dev_date': dev_date,\n",
    "        't_compras': t_compras,\n",
    "        'cant_dev': cant_dev,\n",
    "    })\n",
    "\n",
    "def get_rating():\n",
    "    return Rating(np.random.randint(0, 10), fake.text())\n",
    "\n",
    "def get_empleado():\n",
    "    nombre = fake.name()\n",
    "    cargos = ['Vendedor', 'Cajero', 'Gerente', 'Auxiliar', 'Seguridad', 'Reponedor']\n",
    "    sueldos = [600000, 500000, 800000, 500000, 550000, 400000]\n",
    "    std = np.ndarray.std(np.array(sueldos))\n",
    "    std = np.random.choice([std, -std, std*.25, -std*.25, std*.50, -std*.50, std*.75, -std*.75])\n",
    "    cargo = np.random.choice(cargos)\n",
    "    idx_cargo = cargos.index(cargo)\n",
    "    sueldo = int(sueldos[idx_cargo] + std)\n",
    "    c_date = rand_date()\n",
    "    c_desvin = rand_date()\n",
    "    \n",
    "    while c_date > c_desvin:\n",
    "        c_desvin = rand_date()\n",
    "    \n",
    "    w_hours = (date.today() - c_date).days * 9 * np.random.choice([1.0, 0.95, 0.90, 0.85, 0.80])\n",
    "    w_hours = int(w_hours)\n",
    "    \n",
    "    return Empleado(**{\n",
    "        'name': nombre,\n",
    "        'charge': cargo,\n",
    "        'salary': sueldo,\n",
    "        'c_date': c_date,\n",
    "        'c_desvin': c_desvin,\n",
    "        'w_hours': w_hours\n",
    "    })\n",
    "\n",
    "def get_producto():\n",
    "    name = fake.text().split(' ')[0]\n",
    "    cat = ['Camiseta', 'Jersey', 'Chaqueta', 'Abrigo', 'Vaqueros', 'Calcetines', 'Pantalon Corto', 'Chandal']\n",
    "    cat = np.random.choice(np.array(cat))\n",
    "    price = np.random.randint(20, 100) * 1000\n",
    "    \n",
    "    return Producto(name, cat, price)\n",
    "\n",
    "def get_sucursal(reg):\n",
    "    _dir = ' '.join(fake.text().split(' ')[:3])\n",
    "    reg = to_roman(reg)\n",
    "    reg = reg + ' Region'\n",
    "    offline = np.random.randint(1, 100)\n",
    "    \n",
    "    return Sucursal(_dir, reg, offline)\n",
    "\n",
    "def get_costos(year, month):\n",
    "    g_admin = np.random.randint(1000000, 10000000)\n",
    "    g_nop = np.random.randint(1000000, 10000000)\n",
    "    arr = np.random.randint(10000000, 100000000)\n",
    "    day = np.random.randint(1, 31)\n",
    "    \n",
    "    while month == 2 and day > 28:\n",
    "        day = np.random.randint(1, 28)\n",
    "    \n",
    "    f_month = date(year, month, day)\n",
    "    \n",
    "    return Costos(**{\n",
    "        'g_admin': g_admin,\n",
    "        'gn_oper': g_nop,\n",
    "        'arr': arr,\n",
    "        'f_month': f_month\n",
    "    })"
   ]
  },
  {
   "cell_type": "markdown",
   "metadata": {},
   "source": [
    "## Generar Datos"
   ]
  },
  {
   "cell_type": "code",
   "execution_count": 6,
   "metadata": {},
   "outputs": [],
   "source": [
    "sucursales = []\n",
    "costos = []\n",
    "productos = []\n",
    "empleados = []\n",
    "ratings = []\n",
    "clientes = []"
   ]
  },
  {
   "cell_type": "code",
   "execution_count": 7,
   "metadata": {
    "scrolled": true
   },
   "outputs": [
    {
     "name": "stdout",
     "output_type": "stream",
     "text": [
      "6 sucursales creadas\n",
      "Primera sucursal de la lista: {'direccion': 'Dolorem quasi delectus', 'region': 'V Region', 'tiempo_offline_horas': 0}\n"
     ]
    }
   ],
   "source": [
    "# 2 sucursales por region (5, 8 y RM), las online cuentan como sucursal aparte en la misma region\n",
    "\n",
    "suc = get_sucursal(5)\n",
    "suc.tiempo_offline_horas = 0\n",
    "sucursales.append(suc)\n",
    "\n",
    "suc = get_sucursal(8)\n",
    "suc.tiempo_offline_horas = 0\n",
    "sucursales.append(suc)\n",
    "\n",
    "suc = get_sucursal(0)\n",
    "suc.region = 'Region Metropolitana'\n",
    "suc.tiempo_offline_horas = 0\n",
    "sucursales.append(suc)\n",
    "\n",
    "suc = get_sucursal(5)\n",
    "suc.direccion = 'https://tallawrande.cl'\n",
    "sucursales.append(suc)\n",
    "\n",
    "suc = get_sucursal(8)\n",
    "suc.direccion = 'https://tallawrande.cl'\n",
    "sucursales.append(suc)\n",
    "\n",
    "suc = get_sucursal(0)\n",
    "suc.region = 'Region Metropolitana'\n",
    "suc.direccion = 'https://tallawrande.cl'\n",
    "sucursales.append(suc)\n",
    "\n",
    "\n",
    "print(len(sucursales), 'sucursales creadas')\n",
    "print('Primera sucursal de la lista:', sucursales[0])"
   ]
  },
  {
   "cell_type": "code",
   "execution_count": 8,
   "metadata": {},
   "outputs": [
    {
     "name": "stdout",
     "output_type": "stream",
     "text": [
      "216 costos creados\n",
      "Primer costo de la lista: {'gastos_admin': 3114555, 'gastos_no_operacionales': 4301821, 'arriendos': 29241893, 'fecha_mensual': '2000-01-16'}\n"
     ]
    }
   ],
   "source": [
    "# 216 costos mensuales (18 años)\n",
    "\n",
    "year = 2000\n",
    "month = 1\n",
    "\n",
    "for _ in range(216):\n",
    "    if month == 12:\n",
    "        year += 1\n",
    "        month = 1\n",
    "        \n",
    "    costos.append(get_costos(year, month))\n",
    "    month += 1\n",
    "    \n",
    "\n",
    "print(len(costos), 'costos creados')\n",
    "print('Primer costo de la lista:', costos[0])"
   ]
  },
  {
   "cell_type": "code",
   "execution_count": 9,
   "metadata": {},
   "outputs": [
    {
     "name": "stdout",
     "output_type": "stream",
     "text": [
      "1000 productos creados\n",
      "Primer producto de la lista: {'nombre': 'Sunt', 'categoria': 'Chandal', 'precio': 64000}\n"
     ]
    }
   ],
   "source": [
    "# 1000 productos\n",
    "\n",
    "for _ in range(1000):\n",
    "    productos.append(get_producto())\n",
    "\n",
    "print(len(productos), 'productos creados')\n",
    "print('Primer producto de la lista:', productos[0])"
   ]
  },
  {
   "cell_type": "code",
   "execution_count": 10,
   "metadata": {},
   "outputs": [
    {
     "name": "stdout",
     "output_type": "stream",
     "text": [
      "60 empleados creados\n",
      "Primer empleado de la lista: {'nombre': 'Elvia Cortez Irizarry', 'cargo': 'Cajero', 'sueldo': 561941, 'fecha_ingreso': '2011-04-19', 'fecha_desvinculacion': '2016-02-20', 'horas_trabajadas': '26262'}\n"
     ]
    }
   ],
   "source": [
    "# 60 empleados\n",
    "\n",
    "for _ in range(60):\n",
    "    empleados.append(get_empleado())\n",
    "\n",
    "print(len(empleados), 'empleados creados')\n",
    "print('Primer empleado de la lista:', empleados[0])"
   ]
  },
  {
   "cell_type": "code",
   "execution_count": 11,
   "metadata": {},
   "outputs": [
    {
     "name": "stdout",
     "output_type": "stream",
     "text": [
      "3000 ratings creados\n",
      "Primer rating de la lista: {'cant_estrellas': 4, 'comentarios': 'Deleniti quod eos quam id iure cumque. Nisi fugiat illum reprehenderit. Beatae ratione quae asperiores neque.'}\n"
     ]
    }
   ],
   "source": [
    "# 30000 ratings\n",
    "\n",
    "for _ in range(3000):\n",
    "    ratings.append(get_rating())\n",
    "\n",
    "print(len(ratings), 'ratings creados')\n",
    "print('Primer rating de la lista:', ratings[0])"
   ]
  },
  {
   "cell_type": "code",
   "execution_count": 12,
   "metadata": {},
   "outputs": [
    {
     "name": "stdout",
     "output_type": "stream",
     "text": [
      "500000 clientes creados\n",
      "Primer cliente de la lista: {'fecha_creacion': '2005-03-06', 'fecha_ultima_compra': '2005-08-11', 'fecha_ultima_devolucion': '2001-06-25', 'total_compras': 84, 'cantidad_devoluciones': 20}\n"
     ]
    }
   ],
   "source": [
    "# 500.000 clientes\n",
    "\n",
    "for _ in range(500000):\n",
    "    clientes.append(get_cliente())\n",
    "\n",
    "print(len(clientes), 'clientes creados')\n",
    "print('Primer cliente de la lista:', clientes[0])"
   ]
  },
  {
   "cell_type": "markdown",
   "metadata": {},
   "source": [
    "## Guardar Datos en DataFrame y Exportarlos a CSV"
   ]
  },
  {
   "cell_type": "code",
   "execution_count": 13,
   "metadata": {
    "scrolled": true
   },
   "outputs": [],
   "source": [
    "# sucursales\n",
    "\n",
    "data = [list(x.to_dict().values()) for x in sucursales]\n",
    "cols = sucursales[0].to_dict().keys()\n",
    "df = pd.DataFrame(data, columns=cols)\n",
    "df.to_csv('../datasets/sucursales.csv')"
   ]
  },
  {
   "cell_type": "code",
   "execution_count": 14,
   "metadata": {},
   "outputs": [],
   "source": [
    "# empleados\n",
    "\n",
    "data = [list(x.to_dict().values()) for x in empleados]\n",
    "cols = empleados[0].to_dict().keys()\n",
    "df = pd.DataFrame(data, columns=cols)\n",
    "df.to_csv('../datasets/empleados.csv')"
   ]
  },
  {
   "cell_type": "code",
   "execution_count": 15,
   "metadata": {},
   "outputs": [],
   "source": [
    "# costos mensuales\n",
    "\n",
    "data = [list(x.to_dict().values()) for x in costos]\n",
    "cols = costos[0].to_dict().keys()\n",
    "df = pd.DataFrame(data, columns=cols)\n",
    "df.to_csv('../datasets/costos_mensuales.csv')"
   ]
  },
  {
   "cell_type": "code",
   "execution_count": 16,
   "metadata": {},
   "outputs": [],
   "source": [
    "# productos\n",
    "\n",
    "data = [list(x.to_dict().values()) for x in productos]\n",
    "cols = productos[0].to_dict().keys()\n",
    "df = pd.DataFrame(data, columns=cols)\n",
    "df.to_csv('../datasets/productos.csv')"
   ]
  },
  {
   "cell_type": "code",
   "execution_count": 17,
   "metadata": {},
   "outputs": [],
   "source": [
    "# ratings\n",
    "\n",
    "data = [list(x.to_dict().values()) for x in ratings]\n",
    "cols = ratings[0].to_dict().keys()\n",
    "df = pd.DataFrame(data, columns=cols)\n",
    "df.to_csv('../datasets/ratings.csv')"
   ]
  },
  {
   "cell_type": "code",
   "execution_count": 18,
   "metadata": {},
   "outputs": [],
   "source": [
    "# clientes\n",
    "\n",
    "data = [list(x.to_dict().values()) for x in clientes]\n",
    "cols = clientes[0].to_dict().keys()\n",
    "df = pd.DataFrame(data, columns=cols)\n",
    "df.to_csv('../datasets/clientes.csv')"
   ]
  }
 ],
 "metadata": {
  "kernelspec": {
   "display_name": "Python 3",
   "language": "python",
   "name": "python3"
  },
  "language_info": {
   "codemirror_mode": {
    "name": "ipython",
    "version": 3
   },
   "file_extension": ".py",
   "mimetype": "text/x-python",
   "name": "python",
   "nbconvert_exporter": "python",
   "pygments_lexer": "ipython3",
   "version": "3.6.6"
  }
 },
 "nbformat": 4,
 "nbformat_minor": 2
}
