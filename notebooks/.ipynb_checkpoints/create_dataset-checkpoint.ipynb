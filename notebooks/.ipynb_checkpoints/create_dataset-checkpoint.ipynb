{
 "cells": [
  {
   "cell_type": "code",
   "execution_count": 44,
   "metadata": {},
   "outputs": [],
   "source": [
    "import os\n",
    "import numpy as np\n",
    "import pandas as pd\n",
    "from faker import Faker\n",
    "from datetime import date"
   ]
  },
  {
   "cell_type": "code",
   "execution_count": 45,
   "metadata": {},
   "outputs": [],
   "source": [
    "fake = Faker('es_MX')\n",
    "\n",
    "if not os.path.exists('../datasets/'):\n",
    "    print('Creating datasets directory')\n",
    "    os.mkdir('../datasets/')"
   ]
  },
  {
   "cell_type": "code",
   "execution_count": 46,
   "metadata": {},
   "outputs": [],
   "source": [
    "def rand_date():\n",
    "    year = np.random.randint(2000, 2018)\n",
    "    month = np.random.randint(1, 12)\n",
    "    day = np.random.randint(1, 31)\n",
    "\n",
    "    while month == 2 and day > 28:\n",
    "        day = np.random.randint(1, 28)\n",
    "\n",
    "    return date(year, month, day)\n",
    "\n",
    "def to_roman(num):\n",
    "    conv = [\n",
    "        [1000, 'M'], [900, 'CM'], [500, 'D'], [400, 'CD'],\n",
    "        [ 100, 'C'], [ 90, 'XC'], [ 50, 'L'], [ 40, 'XL'],\n",
    "        [  10, 'X'], [  9, 'IX'], [  5, 'V'], [  4, 'IV'],\n",
    "        [   1, 'I']\n",
    "    ]\n",
    "    roman = ''\n",
    "    i = 0\n",
    "    \n",
    "    while num > 0:\n",
    "        while conv[i][0] > num: \n",
    "            i+=1\n",
    "        roman += conv[i][1]\n",
    "        num -= conv[i][0]\n",
    "    \n",
    "    return roman"
   ]
  },
  {
   "cell_type": "markdown",
   "metadata": {},
   "source": [
    "## Dimensiones"
   ]
  },
  {
   "cell_type": "code",
   "execution_count": 63,
   "metadata": {},
   "outputs": [],
   "source": [
    "class Cliente():\n",
    "    def __init__(self, **kwargs):\n",
    "        self.fecha_creacion = str(kwargs['c_date'])\n",
    "        self.fecha_ultima_compra = str(kwargs['uc_date'])\n",
    "        self.fecha_ultima_devolucion = str(kwargs['dev_date'])\n",
    "        self.total_compras = kwargs['t_compras']\n",
    "        self.cantidad_devoluciones = kwargs['cant_dev']\n",
    "    \n",
    "    def __str__(self):\n",
    "        return str(self.__dict__)\n",
    "    \n",
    "    def to_dict(self):\n",
    "        return self.__dict__\n",
    "\n",
    "class Rating(object):\n",
    "    def __init__(self, stars, comments):\n",
    "        self.cant_estrellas = stars\n",
    "        self.comentarios = comments\n",
    "        \n",
    "    def __str__(self):\n",
    "        return str(self.__dict__)\n",
    "    \n",
    "    def to_dict(self):\n",
    "        return self.__dict__\n",
    "\n",
    "class Empleado(object):\n",
    "    def __init__(self, **kwargs):\n",
    "        self.nombre = kwargs['name']\n",
    "        self.cargo = kwargs['charge']\n",
    "        self.sueldo = kwargs['salary']\n",
    "        self.fecha_ingreso = str(kwargs['c_date'])\n",
    "        self.fecha_desvinculacion = str(kwargs['c_desvin'])\n",
    "        self.horas_trabajadas = str(kwargs['w_hours'])\n",
    "    \n",
    "    def __str__(self):\n",
    "        return str(self.__dict__)\n",
    "    \n",
    "    def to_dict(self):\n",
    "        return self.__dict__\n",
    "\n",
    "class Producto(object):\n",
    "    def __init__(self, name, category, price):\n",
    "        self.nombre = name\n",
    "        self.categoria = category\n",
    "        self.precio = price\n",
    "    \n",
    "    def __str__(self):\n",
    "        return str(self.__dict__)\n",
    "    \n",
    "    def to_dict(self):\n",
    "        return self.__dict__\n",
    "\n",
    "class Sucursal(object):\n",
    "    def __init__(self, _dir, region, time_off):\n",
    "        self.direccion = _dir\n",
    "        self.region = region\n",
    "        self.tiempo_offline_horas = time_off\n",
    "    \n",
    "    def __str__(self):\n",
    "        return str(self.__dict__)\n",
    "    \n",
    "    def to_dict(self):\n",
    "        return self.__dict__\n",
    "\n",
    "class Costos(object):\n",
    "    def __init__(self, **kwargs):\n",
    "        self.gastos_admin = kwargs['g_admin']\n",
    "        self.gastos_no_operacionales = kwargs['gn_oper']\n",
    "        self.arriendos = kwargs['arr']\n",
    "        self.fecha_mensual = str(kwargs['f_month'])\n",
    "    \n",
    "    def __str__(self):\n",
    "        return str(self.__dict__)\n",
    "    \n",
    "    def to_dict(self):\n",
    "        return self.__dict__\n",
    "\n",
    "class Fecha(object):\n",
    "    def __init__(self, day, month, year):\n",
    "        self.day = day\n",
    "        self.month = month\n",
    "        self.year = year\n",
    "    \n",
    "    def __str__(self):\n",
    "        return str(self.__dict__)\n",
    "    \n",
    "    def to_dict(self):\n",
    "        return self.__dict__\n",
    "    \n",
    "    def get_date(self):\n",
    "        return date(self.year, self.month, self.day)\n",
    "    \n",
    "class Venta(object):\n",
    "    def __init__(self, **kwargs):\n",
    "        self.id_venta = kwargs['id_venta']\n",
    "        self.id_fecha = kwargs['id_fecha']\n",
    "        self.id_cliente = kwargs['id_cliente']\n",
    "        self.id_rating = kwargs['id_rating']\n",
    "        self.id_empleado = kwargs['id_empleado']\n",
    "        self.id_costo = kwargs['id_costo']\n",
    "        self.id_sucursal = kwargs['id_sucursal']\n",
    "        self.id_producto = kwargs['id_producto']\n",
    "    \n",
    "    def __str__(self):\n",
    "        return str(self.__dict__)\n",
    "    \n",
    "    def to_dict(self):\n",
    "        return self.__dict__"
   ]
  },
  {
   "cell_type": "markdown",
   "metadata": {},
   "source": [
    "## Funciones generadoras"
   ]
  },
  {
   "cell_type": "code",
   "execution_count": 66,
   "metadata": {},
   "outputs": [],
   "source": [
    "def get_cliente():\n",
    "    c_date = rand_date()\n",
    "    uc_date = rand_date()\n",
    "    dev_date = rand_date()\n",
    "    \n",
    "    while uc_date < c_date:\n",
    "        uc_date = rand_date()\n",
    "    \n",
    "    while uc_date < dev_date:\n",
    "        dev_date = rand_date()\n",
    "        \n",
    "    t_compras = np.random.randint(1, 500)\n",
    "    cant_dev = np.random.randint(0, 50)\n",
    "    \n",
    "    return Cliente(**{\n",
    "        'c_date': c_date, \n",
    "        'uc_date': uc_date,\n",
    "        'dev_date': dev_date,\n",
    "        't_compras': t_compras,\n",
    "        'cant_dev': cant_dev,\n",
    "    })\n",
    "\n",
    "def get_rating():\n",
    "    return Rating(np.random.randint(0, 10), fake.text())\n",
    "\n",
    "def get_empleado():\n",
    "    nombre = fake.name()\n",
    "    cargos = ['Vendedor', 'Cajero', 'Gerente', 'Auxiliar', 'Seguridad', 'Reponedor']\n",
    "    sueldos = [600000, 500000, 800000, 500000, 550000, 400000]\n",
    "    std = np.ndarray.std(np.array(sueldos))\n",
    "    std = np.random.choice([std, -std, std*.25, -std*.25, std*.50, -std*.50, std*.75, -std*.75])\n",
    "    cargo = np.random.choice(cargos)\n",
    "    idx_cargo = cargos.index(cargo)\n",
    "    sueldo = int(sueldos[idx_cargo] + std)\n",
    "    c_date = rand_date()\n",
    "    c_desvin = rand_date()\n",
    "    \n",
    "    while c_date > c_desvin:\n",
    "        c_desvin = rand_date()\n",
    "    \n",
    "    w_hours = (date.today() - c_date).days * 9 * np.random.choice([1.0, 0.95, 0.90, 0.85, 0.80])\n",
    "    w_hours = int(w_hours)\n",
    "    \n",
    "    return Empleado(**{\n",
    "        'name': nombre,\n",
    "        'charge': cargo,\n",
    "        'salary': sueldo,\n",
    "        'c_date': c_date,\n",
    "        'c_desvin': c_desvin,\n",
    "        'w_hours': w_hours\n",
    "    })\n",
    "\n",
    "def get_producto():\n",
    "    name = fake.text().split(' ')[0]\n",
    "    cat = ['Camiseta', 'Jersey', 'Chaqueta', 'Abrigo', 'Vaqueros', 'Calcetines', 'Pantalon Corto', 'Chandal']\n",
    "    cat = np.random.choice(np.array(cat))\n",
    "    price = np.random.randint(20, 100) * 1000\n",
    "    \n",
    "    return Producto(name, cat, price)\n",
    "\n",
    "def get_sucursal(reg):\n",
    "    _dir = ' '.join(fake.text().split(' ')[:3])\n",
    "    reg = to_roman(reg)\n",
    "    reg = reg + ' Region'\n",
    "    offline = np.random.randint(1, 100)\n",
    "    \n",
    "    return Sucursal(_dir, reg, offline)\n",
    "\n",
    "def get_costos(year, month):\n",
    "    g_admin = np.random.randint(1000000, 10000000)\n",
    "    g_nop = np.random.randint(1000000, 10000000)\n",
    "    arr = np.random.randint(10000000, 100000000)\n",
    "    day = np.random.randint(1, 31)\n",
    "    \n",
    "    while month == 2 and day > 28:\n",
    "        day = np.random.randint(1, 28)\n",
    "    \n",
    "    f_month = date(year, month, day)\n",
    "    \n",
    "    return Costos(**{\n",
    "        'g_admin': g_admin,\n",
    "        'gn_oper': g_nop,\n",
    "        'arr': arr,\n",
    "        'f_month': f_month\n",
    "    })\n",
    "\n",
    "def get_fechas(clientes):\n",
    "    fechas = []\n",
    "    \n",
    "    for cliente in clientes:\n",
    "        year, month, day = cliente.fecha_ultima_compra.split('-')\n",
    "        fechas.append(\n",
    "            Fecha(\n",
    "                year,\n",
    "                month,\n",
    "                day\n",
    "            )\n",
    "        )\n",
    "    \n",
    "    return fechas\n",
    "\n",
    "def get_ventas(clientes, fechas, ratings, empleados, costos, sucursales, productos, len_ventas=1000000):\n",
    "    ventas = []\n",
    "    \n",
    "    for idx in range(1, len_ventas+1):\n",
    "        # get random client\n",
    "        rand_cliente_idx = np.random.randint(1, len(clientes))\n",
    "        date_uc_cliente = clientes[rand_cliente_idx].fecha_ultima_compra\n",
    "\n",
    "        # el id de cliente corresponde al id de fecha\n",
    "        rand_fecha_idx = rand_cliente_idx\n",
    "\n",
    "        # get random rating\n",
    "        rand_rating_idx = np.random.randint(1, len(ratings))\n",
    "\n",
    "        # get random employee\n",
    "        rand_empleado_idx = np.random.randint(1, len(empleados))\n",
    "\n",
    "        # get random cost\n",
    "        rand_costo_idx = np.random.randint(1, len(costos))\n",
    "\n",
    "        # get random sucursal\n",
    "        rand_sucursal_idx = np.random.randint(1, len(sucursales))\n",
    "\n",
    "        # get random product\n",
    "        rand_product_idx = np.random.randint(1, len(productos))\n",
    "        \n",
    "        ventas.append(Venta(**{\n",
    "            'id_venta': idx,\n",
    "            'id_fecha': rand_fecha_idx,\n",
    "            'id_cliente': rand_cliente_idx,\n",
    "            'id_rating': rand_rating_idx,\n",
    "            'id_empleado': rand_empleado_idx,\n",
    "            'id_costo': rand_costo_idx,\n",
    "            'id_sucursal': rand_sucursal_idx,\n",
    "            'id_producto': rand_product_idx\n",
    "        }))\n",
    "    \n",
    "    return ventas"
   ]
  },
  {
   "cell_type": "markdown",
   "metadata": {},
   "source": [
    "## Generar Datos"
   ]
  },
  {
   "cell_type": "code",
   "execution_count": 49,
   "metadata": {},
   "outputs": [],
   "source": [
    "sucursales = []\n",
    "costos = []\n",
    "productos = []\n",
    "empleados = []\n",
    "ratings = []\n",
    "clientes = []\n",
    "fechas = []\n",
    "ventas = []"
   ]
  },
  {
   "cell_type": "code",
   "execution_count": 50,
   "metadata": {
    "scrolled": true
   },
   "outputs": [
    {
     "name": "stdout",
     "output_type": "stream",
     "text": [
      "4 sucursales creadas\n",
      "Primera sucursal de la lista: {'direccion': 'Perspiciatis in nihil', 'region': 'V Region', 'tiempo_offline_horas': 0}\n"
     ]
    }
   ],
   "source": [
    "# 2 sucursales por region (5, 8 y RM), las online cuentan como sucursal aparte en la misma region\n",
    "\n",
    "suc = get_sucursal(5)\n",
    "suc.tiempo_offline_horas = 0\n",
    "sucursales.append(suc)\n",
    "\n",
    "suc = get_sucursal(8)\n",
    "suc.tiempo_offline_horas = 0\n",
    "sucursales.append(suc)\n",
    "\n",
    "suc = get_sucursal(0)\n",
    "suc.region = 'Region Metropolitana'\n",
    "suc.tiempo_offline_horas = 0\n",
    "sucursales.append(suc)\n",
    "\n",
    "# suc = get_sucursal(5)\n",
    "# suc.direccion = 'https://tallawrande.cl'\n",
    "# sucursales.append(suc)\n",
    "\n",
    "# suc = get_sucursal(8)\n",
    "# suc.direccion = 'https://tallawrande.cl'\n",
    "# sucursales.append(suc)\n",
    "\n",
    "suc = get_sucursal(0)\n",
    "suc.region = 'Region Metropolitana'\n",
    "suc.direccion = 'https://tallawrande.cl'\n",
    "sucursales.append(suc)\n",
    "\n",
    "\n",
    "print(len(sucursales), 'sucursales creadas')\n",
    "print('Primera sucursal de la lista:', sucursales[0])"
   ]
  },
  {
   "cell_type": "code",
   "execution_count": 51,
   "metadata": {},
   "outputs": [
    {
     "name": "stdout",
     "output_type": "stream",
     "text": [
      "216 costos creados\n",
      "Primer costo de la lista: {'gastos_admin': 8969237, 'gastos_no_operacionales': 7792029, 'arriendos': 99959369, 'fecha_mensual': '2000-01-20'}\n"
     ]
    }
   ],
   "source": [
    "# 216 costos mensuales (18 años)\n",
    "\n",
    "year = 2000\n",
    "month = 1\n",
    "\n",
    "for _ in range(216):\n",
    "    if month == 12:\n",
    "        year += 1\n",
    "        month = 1\n",
    "        \n",
    "    costos.append(get_costos(year, month))\n",
    "    month += 1\n",
    "    \n",
    "\n",
    "print(len(costos), 'costos creados')\n",
    "print('Primer costo de la lista:', costos[0])"
   ]
  },
  {
   "cell_type": "code",
   "execution_count": 52,
   "metadata": {},
   "outputs": [
    {
     "name": "stdout",
     "output_type": "stream",
     "text": [
      "1000 productos creados\n",
      "Primer producto de la lista: {'nombre': 'Accusantium', 'categoria': 'Jersey', 'precio': 22000}\n"
     ]
    }
   ],
   "source": [
    "# 1000 productos\n",
    "\n",
    "for _ in range(1000):\n",
    "    productos.append(get_producto())\n",
    "\n",
    "print(len(productos), 'productos creados')\n",
    "print('Primer producto de la lista:', productos[0])"
   ]
  },
  {
   "cell_type": "code",
   "execution_count": 53,
   "metadata": {},
   "outputs": [
    {
     "name": "stdout",
     "output_type": "stream",
     "text": [
      "60 empleados creados\n",
      "Primer empleado de la lista: {'nombre': 'Sr(a). Estela Fuentes', 'cargo': 'Vendedor', 'sueldo': 569029, 'fecha_ingreso': '2016-03-26', 'fecha_desvinculacion': '2016-07-26', 'horas_trabajadas': '9258'}\n"
     ]
    }
   ],
   "source": [
    "# 60 empleados\n",
    "\n",
    "for _ in range(60):\n",
    "    empleados.append(get_empleado())\n",
    "\n",
    "print(len(empleados), 'empleados creados')\n",
    "print('Primer empleado de la lista:', empleados[0])"
   ]
  },
  {
   "cell_type": "code",
   "execution_count": 54,
   "metadata": {},
   "outputs": [
    {
     "name": "stdout",
     "output_type": "stream",
     "text": [
      "3000 ratings creados\n",
      "Primer rating de la lista: {'cant_estrellas': 7, 'comentarios': 'Dolores ducimus incidunt. Excepturi suscipit a repudiandae cum odit molestias commodi. Quaerat dolor nihil.\\nVitae nam amet.\\nQuasi ex libero vero voluptate eveniet. Neque veritatis eligendi a nostrum.'}\n"
     ]
    }
   ],
   "source": [
    "# 30000 ratings\n",
    "\n",
    "for _ in range(3000):\n",
    "    ratings.append(get_rating())\n",
    "\n",
    "print(len(ratings), 'ratings creados')\n",
    "print('Primer rating de la lista:', ratings[0])"
   ]
  },
  {
   "cell_type": "code",
   "execution_count": 55,
   "metadata": {
    "scrolled": true
   },
   "outputs": [
    {
     "name": "stdout",
     "output_type": "stream",
     "text": [
      "500000 clientes creados\n",
      "Primer cliente de la lista: {'fecha_creacion': '2014-11-09', 'fecha_ultima_compra': '2017-03-04', 'fecha_ultima_devolucion': '2011-11-10', 'total_compras': 463, 'cantidad_devoluciones': 15}\n"
     ]
    }
   ],
   "source": [
    "# 500.000 clientes\n",
    "\n",
    "for _ in range(500000):\n",
    "    clientes.append(get_cliente())\n",
    "\n",
    "print(len(clientes), 'clientes creados')\n",
    "print('Primer cliente de la lista:', clientes[0])"
   ]
  },
  {
   "cell_type": "code",
   "execution_count": 56,
   "metadata": {},
   "outputs": [
    {
     "name": "stdout",
     "output_type": "stream",
     "text": [
      "500000 fechas creadas\n",
      "Primera fecha de la lista: {'day': '2017', 'month': '03', 'year': '04'}\n"
     ]
    }
   ],
   "source": [
    "# fechas. Depende de clientes\n",
    "\n",
    "fechas = get_fechas(clientes)\n",
    "\n",
    "print(len(fechas), 'fechas creadas')\n",
    "print('Primera fecha de la lista:', fechas[0])"
   ]
  },
  {
   "cell_type": "code",
   "execution_count": 67,
   "metadata": {},
   "outputs": [
    {
     "name": "stdout",
     "output_type": "stream",
     "text": [
      "1000000 ventas creadas\n",
      "Primera venta de la lista: {'id_venta': 1, 'id_fecha': 418586, 'id_cliente': 418586, 'id_rating': 1154, 'id_empleado': 15, 'id_costo': 86, 'id_sucursal': 1, 'id_producto': 387}\n"
     ]
    }
   ],
   "source": [
    "# 1.000.000 ventas\n",
    "# depende de clientes, fechas, ratings, empleados, costos, sucursales y productos\n",
    "\n",
    "ventas = get_ventas(clientes, fechas, ratings, empleados, costos, sucursales, productos)\n",
    "\n",
    "print(len(ventas), 'ventas creadas')\n",
    "print('Primera venta de la lista:', ventas[0])"
   ]
  },
  {
   "cell_type": "markdown",
   "metadata": {},
   "source": [
    "## Guardar Datos en DataFrame y Exportarlos a CSV"
   ]
  },
  {
   "cell_type": "code",
   "execution_count": 68,
   "metadata": {
    "scrolled": true
   },
   "outputs": [],
   "source": [
    "# sucursales\n",
    "\n",
    "data = [list(x.to_dict().values()) for x in sucursales]\n",
    "cols = sucursales[0].to_dict().keys()\n",
    "df = pd.DataFrame(data, columns=cols)\n",
    "df.to_csv('../datasets/sucursales.csv', index_label='index')"
   ]
  },
  {
   "cell_type": "code",
   "execution_count": 69,
   "metadata": {},
   "outputs": [],
   "source": [
    "# empleados\n",
    "\n",
    "data = [list(x.to_dict().values()) for x in empleados]\n",
    "cols = empleados[0].to_dict().keys()\n",
    "df = pd.DataFrame(data, columns=cols)\n",
    "df.to_csv('../datasets/empleados.csv', index_label='index')"
   ]
  },
  {
   "cell_type": "code",
   "execution_count": 70,
   "metadata": {},
   "outputs": [],
   "source": [
    "# costos mensuales\n",
    "\n",
    "data = [list(x.to_dict().values()) for x in costos]\n",
    "cols = costos[0].to_dict().keys()\n",
    "df = pd.DataFrame(data, columns=cols)\n",
    "df.to_csv('../datasets/costos_mensuales.csv', index_label='index')"
   ]
  },
  {
   "cell_type": "code",
   "execution_count": 71,
   "metadata": {},
   "outputs": [],
   "source": [
    "# productos\n",
    "\n",
    "data = [list(x.to_dict().values()) for x in productos]\n",
    "cols = productos[0].to_dict().keys()\n",
    "df = pd.DataFrame(data, columns=cols)\n",
    "df.to_csv('../datasets/productos.csv', index_label='index')"
   ]
  },
  {
   "cell_type": "code",
   "execution_count": 72,
   "metadata": {},
   "outputs": [],
   "source": [
    "# ratings\n",
    "\n",
    "data = [list(x.to_dict().values()) for x in ratings]\n",
    "cols = ratings[0].to_dict().keys()\n",
    "df = pd.DataFrame(data, columns=cols)\n",
    "df.to_csv('../datasets/ratings.csv', index_label='index')"
   ]
  },
  {
   "cell_type": "code",
   "execution_count": 73,
   "metadata": {},
   "outputs": [],
   "source": [
    "# clientes\n",
    "\n",
    "data = [list(x.to_dict().values()) for x in clientes]\n",
    "cols = clientes[0].to_dict().keys()\n",
    "df = pd.DataFrame(data, columns=cols)\n",
    "df.to_csv('../datasets/clientes.csv', index_label='index')"
   ]
  },
  {
   "cell_type": "code",
   "execution_count": 74,
   "metadata": {},
   "outputs": [],
   "source": [
    "# fechas\n",
    "\n",
    "data = [list(x.to_dict().values()) for x in fechas]\n",
    "cols = fechas[0].to_dict().keys()\n",
    "df = pd.DataFrame(data, columns=cols)\n",
    "df.to_csv('../datasets/fechas.csv', index_label='index')"
   ]
  },
  {
   "cell_type": "code",
   "execution_count": 75,
   "metadata": {},
   "outputs": [],
   "source": [
    "# ventas\n",
    "\n",
    "data = [list(x.to_dict().values()) for x in ventas]\n",
    "cols = ventas[0].to_dict().keys()\n",
    "df = pd.DataFrame(data, columns=cols)\n",
    "df.to_csv('../datasets/ventas.csv', index_label='index')"
   ]
  },
  {
   "cell_type": "code",
   "execution_count": 76,
   "metadata": {},
   "outputs": [
    {
     "data": {
      "text/html": [
       "<div>\n",
       "<style scoped>\n",
       "    .dataframe tbody tr th:only-of-type {\n",
       "        vertical-align: middle;\n",
       "    }\n",
       "\n",
       "    .dataframe tbody tr th {\n",
       "        vertical-align: top;\n",
       "    }\n",
       "\n",
       "    .dataframe thead th {\n",
       "        text-align: right;\n",
       "    }\n",
       "</style>\n",
       "<table border=\"1\" class=\"dataframe\">\n",
       "  <thead>\n",
       "    <tr style=\"text-align: right;\">\n",
       "      <th></th>\n",
       "      <th>index</th>\n",
       "      <th>id_venta</th>\n",
       "      <th>id_fecha</th>\n",
       "      <th>id_cliente</th>\n",
       "      <th>id_rating</th>\n",
       "      <th>id_empleado</th>\n",
       "      <th>id_costo</th>\n",
       "      <th>id_sucursal</th>\n",
       "      <th>id_producto</th>\n",
       "    </tr>\n",
       "  </thead>\n",
       "  <tbody>\n",
       "    <tr>\n",
       "      <th>0</th>\n",
       "      <td>0</td>\n",
       "      <td>1</td>\n",
       "      <td>418586</td>\n",
       "      <td>418586</td>\n",
       "      <td>1154</td>\n",
       "      <td>15</td>\n",
       "      <td>86</td>\n",
       "      <td>1</td>\n",
       "      <td>387</td>\n",
       "    </tr>\n",
       "    <tr>\n",
       "      <th>1</th>\n",
       "      <td>1</td>\n",
       "      <td>2</td>\n",
       "      <td>45436</td>\n",
       "      <td>45436</td>\n",
       "      <td>2549</td>\n",
       "      <td>1</td>\n",
       "      <td>76</td>\n",
       "      <td>3</td>\n",
       "      <td>958</td>\n",
       "    </tr>\n",
       "    <tr>\n",
       "      <th>2</th>\n",
       "      <td>2</td>\n",
       "      <td>3</td>\n",
       "      <td>396368</td>\n",
       "      <td>396368</td>\n",
       "      <td>980</td>\n",
       "      <td>34</td>\n",
       "      <td>55</td>\n",
       "      <td>2</td>\n",
       "      <td>366</td>\n",
       "    </tr>\n",
       "    <tr>\n",
       "      <th>3</th>\n",
       "      <td>3</td>\n",
       "      <td>4</td>\n",
       "      <td>202218</td>\n",
       "      <td>202218</td>\n",
       "      <td>1755</td>\n",
       "      <td>27</td>\n",
       "      <td>30</td>\n",
       "      <td>1</td>\n",
       "      <td>712</td>\n",
       "    </tr>\n",
       "    <tr>\n",
       "      <th>4</th>\n",
       "      <td>4</td>\n",
       "      <td>5</td>\n",
       "      <td>494823</td>\n",
       "      <td>494823</td>\n",
       "      <td>2025</td>\n",
       "      <td>30</td>\n",
       "      <td>78</td>\n",
       "      <td>3</td>\n",
       "      <td>668</td>\n",
       "    </tr>\n",
       "  </tbody>\n",
       "</table>\n",
       "</div>"
      ],
      "text/plain": [
       "   index  id_venta  id_fecha  id_cliente  id_rating  id_empleado  id_costo  \\\n",
       "0      0         1    418586      418586       1154           15        86   \n",
       "1      1         2     45436       45436       2549            1        76   \n",
       "2      2         3    396368      396368        980           34        55   \n",
       "3      3         4    202218      202218       1755           27        30   \n",
       "4      4         5    494823      494823       2025           30        78   \n",
       "\n",
       "   id_sucursal  id_producto  \n",
       "0            1          387  \n",
       "1            3          958  \n",
       "2            2          366  \n",
       "3            1          712  \n",
       "4            3          668  "
      ]
     },
     "execution_count": 76,
     "metadata": {},
     "output_type": "execute_result"
    }
   ],
   "source": [
    "data = pd.read_csv('../datasets/ventas.csv', delimiter=',')\n",
    "data.head()"
   ]
  },
  {
   "cell_type": "code",
   "execution_count": null,
   "metadata": {},
   "outputs": [],
   "source": []
  }
 ],
 "metadata": {
  "kernelspec": {
   "display_name": "Python 3",
   "language": "python",
   "name": "python3"
  },
  "language_info": {
   "codemirror_mode": {
    "name": "ipython",
    "version": 3
   },
   "file_extension": ".py",
   "mimetype": "text/x-python",
   "name": "python",
   "nbconvert_exporter": "python",
   "pygments_lexer": "ipython3",
   "version": "3.6.6"
  }
 },
 "nbformat": 4,
 "nbformat_minor": 2
}
